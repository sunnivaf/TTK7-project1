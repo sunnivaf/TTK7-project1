{
 "cells": [
  {
   "cell_type": "code",
   "execution_count": 1,
   "metadata": {},
   "outputs": [
    {
     "name": "stdout",
     "output_type": "stream",
     "text": [
      "Could not load PyEMD\n"
     ]
    }
   ],
   "source": [
    "import mne\n",
    "mne.set_log_level('error')\n",
    "import matplotlib\n",
    "import matplotlib.pyplot as plt\n",
    "from functions import *\n",
    "from autoreject import get_rejection_threshold\n",
    "matplotlib.use('TkAgg')"
   ]
  },
  {
   "cell_type": "markdown",
   "metadata": {},
   "source": [
    "### Load the data"
   ]
  },
  {
   "cell_type": "markdown",
   "metadata": {},
   "source": [
    "#### Bruk denne på egen pc"
   ]
  },
  {
   "cell_type": "code",
   "execution_count": 2,
   "metadata": {},
   "outputs": [],
   "source": [
    "# data_path = \"/Users/sunniva/Documents/Prosjektoppgave/Data Set Alcohol Detector/Subjects\"\n",
    "data_path = \"./\"\n",
    "subject = \"P018\"\n",
    "ses = \"S001\"\n",
    "p_id = data_path + subject + \"/\" + f\"sub-{subject}_ses-{ses}_task-Default_run-005\"\n",
    "raw = mne.io.read_raw_fif(data_path + \"/\" + p_id + \"_eeg-filt-raw-annotated.fif\", preload=True)"
   ]
  },
  {
   "cell_type": "markdown",
   "metadata": {},
   "source": [
    "#### Bruk denne på skole-pc"
   ]
  },
  {
   "cell_type": "code",
   "execution_count": 3,
   "metadata": {},
   "outputs": [],
   "source": [
    "# data_path = \"/Users\\sunnivlf\\Documents/Data Set Alcohol Detector/Subjects\" # Load this from where you have saved it on your computer\n",
    "# p_id = \"/\" + \"sub-P019\" + \"/\" + \"ses-S002\" + \"/\" + \"sub-P019_ses-S002_task-Default_run-005\"\n",
    "# raw = mne.io.read_raw_fif(data_path + \"/\" + p_id + \"_eeg.fif\", preload=True)"
   ]
  },
  {
   "cell_type": "markdown",
   "metadata": {},
   "source": [
    "### ICA filtering"
   ]
  },
  {
   "cell_type": "code",
   "execution_count": 4,
   "metadata": {},
   "outputs": [],
   "source": [
    "# Filter settings\n",
    "ica_low_cut = 1.0       # ICA is sensitive to low-frequency drifts and therefore requires the data to be high-pass filtered prior to fitting. Typically, a cutoff frequency of 1 Hz is recommended.\n",
    "ica_hi_cut  = 30\n",
    "\n",
    "raw_ica = raw.copy().filter(ica_low_cut, ica_hi_cut)"
   ]
  },
  {
   "cell_type": "markdown",
   "metadata": {},
   "source": [
    "### Segment data for ICA"
   ]
  },
  {
   "cell_type": "code",
   "execution_count": 5,
   "metadata": {},
   "outputs": [
    {
     "name": "stdout",
     "output_type": "stream",
     "text": [
      "Estimating rejection dictionary for eeg\n"
     ]
    },
    {
     "data": {
      "text/plain": [
       "{'eeg': 0.0001431409188329493}"
      ]
     },
     "execution_count": 5,
     "metadata": {},
     "output_type": "execute_result"
    }
   ],
   "source": [
    "# Break raw data into 1s epochs\n",
    "tstep = 1.0\n",
    "events_ica = mne.make_fixed_length_events(raw_ica, duration=tstep)\n",
    "epochs_ica = mne.Epochs(raw_ica, events_ica,\n",
    "                        tmin=0.0, tmax=tstep,\n",
    "                        baseline=None,\n",
    "                        preload=True)\n",
    "\n",
    "reject = get_rejection_threshold(epochs_ica);\n",
    "reject"
   ]
  },
  {
   "cell_type": "markdown",
   "metadata": {},
   "source": [
    "### Fit ICA to data"
   ]
  },
  {
   "cell_type": "code",
   "execution_count": 6,
   "metadata": {},
   "outputs": [
    {
     "name": "stderr",
     "output_type": "stream",
     "text": [
      "/opt/homebrew/lib/python3.11/site-packages/sklearn/decomposition/_fastica.py:128: ConvergenceWarning: FastICA did not converge. Consider increasing tolerance or the maximum number of iterations.\n",
      "  warnings.warn(\n"
     ]
    },
    {
     "data": {
      "text/html": [
       "<table class=\"table table-hover table-striped table-sm table-responsive small\">\n",
       "    <tr>\n",
       "        <th>Method</th>\n",
       "        <td>fastica</td>\n",
       "    </tr>\n",
       "    <tr>\n",
       "        <th>Fit</th>\n",
       "        <td>1000 iterations on epochs (18323 samples)</td>\n",
       "    </tr>\n",
       "    \n",
       "    <tr>\n",
       "        <th>ICA components</th>\n",
       "        <td>14</td>\n",
       "    </tr>\n",
       "    <tr>\n",
       "        <th>Available PCA components</th>\n",
       "        <td>16</td>\n",
       "    </tr>\n",
       "    <tr>\n",
       "        <th>Channel types</th>\n",
       "        <td>eeg</td>\n",
       "    </tr>\n",
       "    <tr>\n",
       "        <th>ICA components marked for exclusion</th>\n",
       "        <td>&mdash;</td>\n",
       "    </tr>\n",
       "    \n",
       "</table>"
      ],
      "text/plain": [
       "<ICA | epochs decomposition, method: fastica (fit in 1000 iterations on 18323 samples), 14 ICA components (16 PCA components available), channel types: eeg, no sources marked for exclusion>"
      ]
     },
     "execution_count": 6,
     "metadata": {},
     "output_type": "execute_result"
    }
   ],
   "source": [
    "# ICA parameters\n",
    "random_state = 42   # ensures ICA is reproducable each time it's run\n",
    "ica_n_components = .99     # Specify n_components as a decimal to set % explained variance\n",
    "\n",
    "# Fit ICA\n",
    "ica = mne.preprocessing.ICA(n_components=ica_n_components,\n",
    "                            random_state=random_state,\n",
    "                            )\n",
    "ica.fit(epochs_ica,\n",
    "        reject=reject,\n",
    "        tstep=tstep)"
   ]
  },
  {
   "cell_type": "markdown",
   "metadata": {},
   "source": [
    "### Visualiza ICA components"
   ]
  },
  {
   "cell_type": "code",
   "execution_count": 11,
   "metadata": {},
   "outputs": [],
   "source": [
    "ica.plot_components();"
   ]
  },
  {
   "cell_type": "markdown",
   "metadata": {},
   "source": [
    "### Identify EOG artifacts from ICA components"
   ]
  },
  {
   "cell_type": "code",
   "execution_count": 8,
   "metadata": {},
   "outputs": [],
   "source": [
    "ica_z_thresh = 1.96 \n",
    "eog_indices, eog_scores = ica.find_bads_eog(raw_ica, \n",
    "                                            ch_name=['Fp2'], \n",
    "                                            threshold=ica_z_thresh)\n",
    "ica.exclude = eog_indices\n",
    "ica.exclude.append(2)\n",
    "ica.plot_scores(eog_scores);\n",
    "# ica.apply(raw.copy())"
   ]
  },
  {
   "cell_type": "markdown",
   "metadata": {},
   "source": [
    "### Save the ICA"
   ]
  },
  {
   "cell_type": "code",
   "execution_count": 13,
   "metadata": {},
   "outputs": [],
   "source": [
    "import os\n",
    "\n",
    "#data_path = \"/Users\\sunnivlf\\Documents/Preprocessed data\" ## Save this somewhere on your own computer\n",
    "# data_path = \"/Users/sunniva/Documents/TTK7 Adaptive Data Analysis/TTK7-project2\" ## Save this somewhere on your own computer\n",
    "\n",
    "if not os.path.exists(f\"./ICA/{p_id}\"):\n",
    "    os.makedirs(f\"./ICA/{p_id}\")\n",
    "\n",
    "data_path = f\"./ICA/\"\n",
    "\n",
    "ica.save(data_path + p_id + '-ica.fif', \n",
    "        overwrite=True);"
   ]
  },
  {
   "cell_type": "code",
   "execution_count": 10,
   "metadata": {},
   "outputs": [
    {
     "data": {
      "text/plain": [
       "<MNEBrowseFigure size 800x800 with 4 Axes>"
      ]
     },
     "execution_count": 10,
     "metadata": {},
     "output_type": "execute_result"
    }
   ],
   "source": [
    "raw_copy = raw.copy()\n",
    "ica.apply(raw_copy)\n",
    "raw_copy.plot()"
   ]
  }
 ],
 "metadata": {
  "kernelspec": {
   "display_name": "Python 3",
   "language": "python",
   "name": "python3"
  },
  "language_info": {
   "codemirror_mode": {
    "name": "ipython",
    "version": 3
   },
   "file_extension": ".py",
   "mimetype": "text/x-python",
   "name": "python",
   "nbconvert_exporter": "python",
   "pygments_lexer": "ipython3",
   "version": "3.11.6"
  }
 },
 "nbformat": 4,
 "nbformat_minor": 2
}
