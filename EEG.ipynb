{
 "cells": [
  {
   "cell_type": "code",
   "execution_count": 1,
   "metadata": {},
   "outputs": [],
   "source": [
    "import mne\n",
    "mne.set_log_level('error')\n",
    "from pathlib import Path\n",
    "import matplotlib\n",
    "import matplotlib.pyplot as plt\n",
    "import glob\n",
    "from functions import *\n",
    "import numpy as np\n",
    "matplotlib.use('TkAgg')"
   ]
  },
  {
   "cell_type": "markdown",
   "metadata": {},
   "source": [
    "### Loading the data"
   ]
  },
  {
   "cell_type": "code",
   "execution_count": 2,
   "metadata": {},
   "outputs": [],
   "source": [
    "data_path = \"/Users\\sunnivlf\\Documents/Data Set Alcohol Detector/Subjects\"\n",
    "p_id = \"/\" + \"sub-P019\" + \"/\" + \"ses-S002\" + \"/\" + \"sub-P019_ses-S002_task-Default_run-005\"\n",
    "raw = mne.io.read_raw_fif(data_path + \"/\" + p_id + \"_eeg.fif\", preload=True)"
   ]
  },
  {
   "cell_type": "code",
   "execution_count": 3,
   "metadata": {},
   "outputs": [],
   "source": [
    "raw.plot_sensors(show_names=True);"
   ]
  },
  {
   "cell_type": "code",
   "execution_count": 10,
   "metadata": {},
   "outputs": [
    {
     "data": {
      "text/plain": [
       "<MNEBrowseFigure size 1920x1137 with 4 Axes>"
      ]
     },
     "execution_count": 10,
     "metadata": {},
     "output_type": "execute_result"
    }
   ],
   "source": [
    "low_cut = 0.1 \n",
    "hi_cut  = 30\n",
    "raw_filt = raw.copy().filter(low_cut, hi_cut)\n",
    "raw_filt.compute_psd(fmax=125).plot(picks=\"data\", exclude=\"bads\");\n",
    "raw_filt.plot(highpass=0.1, lowpass=30, duration=200)"
   ]
  },
  {
   "cell_type": "code",
   "execution_count": 6,
   "metadata": {},
   "outputs": [],
   "source": [
    "picks = mne.pick_channels(ch_names = ['Fp2'], include=['Fp2'])\n",
    "data, times = raw_filt[picks, :]  "
   ]
  },
  {
   "cell_type": "code",
   "execution_count": 11,
   "metadata": {},
   "outputs": [],
   "source": [
    "plt.figure(figsize=(10, 4))\n",
    "plt.plot(times, data[0])\n",
    "plt.xlabel('Time (s)')\n",
    "plt.ylabel('EEG Amplitude')\n",
    "plt.title('EEG Data for Fp2 Channel')\n",
    "plt.grid(True)\n",
    "plt.tight_layout()\n",
    "plt.show()"
   ]
  },
  {
   "cell_type": "code",
   "execution_count": 9,
   "metadata": {},
   "outputs": [],
   "source": [
    "num_samples = len(data[0])\n",
    "sample_rate = raw.info['sfreq']\n",
    "fft(data[0], num_samples, sample_rate)"
   ]
  }
 ],
 "metadata": {
  "kernelspec": {
   "display_name": "Python 3",
   "language": "python",
   "name": "python3"
  },
  "language_info": {
   "codemirror_mode": {
    "name": "ipython",
    "version": 3
   },
   "file_extension": ".py",
   "mimetype": "text/x-python",
   "name": "python",
   "nbconvert_exporter": "python",
   "pygments_lexer": "ipython3",
   "version": "3.11.6"
  }
 },
 "nbformat": 4,
 "nbformat_minor": 2
}
