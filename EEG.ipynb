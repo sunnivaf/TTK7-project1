{
 "cells": [
  {
   "cell_type": "code",
   "execution_count": 1,
   "metadata": {},
   "outputs": [],
   "source": [
    "import mne\n",
    "mne.set_log_level('error')\n",
    "import matplotlib\n",
    "import matplotlib.pyplot as plt\n",
    "from functions import *\n",
    "matplotlib.use('TkAgg')"
   ]
  },
  {
   "cell_type": "markdown",
   "metadata": {},
   "source": [
    "### Loading the data"
   ]
  },
  {
   "cell_type": "code",
   "execution_count": 3,
   "metadata": {},
   "outputs": [],
   "source": [
    "# data_path = \"/Users\\sunnivlf\\Documents/Data Set Alcohol Detector/Subjects\"\n",
    "data_path = \"../Data Set Alcohol Detector/Subjects\"\n",
    "#data_path = \"../Data Set Alcohol Detector/Subjects\"\n",
    "p_id = \"/\" + \"sub-P019\" + \"/\" + \"ses-S002\" + \"/\" + \"sub-P019_ses-S002_task-Default_run-005\"\n",
    "raw = mne.io.read_raw_fif(data_path + \"/\" + p_id + \"_eeg.fif\", preload=True)"
   ]
  },
  {
   "cell_type": "markdown",
   "metadata": {},
   "source": [
    "Plotting the elctrode placement on the scalp"
   ]
  },
  {
   "cell_type": "code",
   "execution_count": 6,
   "metadata": {},
   "outputs": [],
   "source": [
    "raw.plot_sensors(show_names=True);"
   ]
  },
  {
   "cell_type": "markdown",
   "metadata": {},
   "source": [
    "### Filtering the data\n",
    "Highpass filtering is included to remove drifting of the signal, while lowpass filtering will remove power line noise\n"
   ]
  },
  {
   "cell_type": "code",
   "execution_count": 4,
   "metadata": {},
   "outputs": [
    {
     "data": {
      "text/plain": [
       "<MNEBrowseFigure size 800x800 with 4 Axes>"
      ]
     },
     "execution_count": 4,
     "metadata": {},
     "output_type": "execute_result"
    }
   ],
   "source": [
    "low_cut = 0.1 \n",
    "hi_cut  = 30\n",
    "raw_filt = raw.copy().filter(low_cut, hi_cut)\n",
    "raw_filt.compute_psd(fmax=125).plot(picks=\"data\", exclude=\"bads\");\n",
    "raw_filt.plot(highpass=0.1, lowpass=30, duration=200)"
   ]
  },
  {
   "cell_type": "markdown",
   "metadata": {},
   "source": [
    "Choose one channel to use for this experiment. Fp2 is one of the frontal electrodes. The data and time is extracted from the filtered raw data, as numpy arrays."
   ]
  },
  {
   "cell_type": "code",
   "execution_count": 22,
   "metadata": {},
   "outputs": [
    {
     "name": "stdout",
     "output_type": "stream",
     "text": [
      "[[ 2.08166817e-17 -1.15323783e-05 -2.07836756e-05 ... -2.90512535e-05\n",
      "  -1.65760620e-05  1.73472348e-17]\n",
      " [ 6.93889390e-18 -7.09227182e-06 -1.26138790e-05 ...  2.15769186e-05\n",
      "   1.35345392e-05  1.17093835e-17]]\n"
     ]
    }
   ],
   "source": [
    "channels = ['PO8', 'Fp1']\n",
    "\n",
    "picks = mne.pick_channels(ch_names = raw_filt.info['ch_names'], include=channels)\n",
    "data, time = raw_filt[picks, :]  \n",
    "\n",
    "channel_nr = 1"
   ]
  },
  {
   "cell_type": "markdown",
   "metadata": {},
   "source": [
    "The signal is visulaized using matplotlib."
   ]
  },
  {
   "cell_type": "code",
   "execution_count": 33,
   "metadata": {},
   "outputs": [],
   "source": [
    "plt.figure(figsize=(10, 4*len(channels)))\n",
    "for idx, channel in enumerate(channels):\n",
    "    ax = plt.subplot(2, 1, idx+1)\n",
    "    plt.plot(time, data[idx], label=channel)\n",
    "    plt.ylabel('EEG Amplitude')\n",
    "    plt.grid(True)\n",
    "    if idx < len(channels) - 1:\n",
    "        ax.set_xticklabels([])\n",
    "    else:\n",
    "        plt.xlabel('Time [s]')\n",
    "    plt.legend()\n",
    "    # plt.ylim([-0.000110, 0.000110])\n",
    "    \n",
    "plt.tight_layout()\n",
    "plt.show()"
   ]
  },
  {
   "cell_type": "code",
   "execution_count": 40,
   "metadata": {},
   "outputs": [],
   "source": [
    "sample_rate = raw.info['sfreq']\n",
    "window_size = 8\n",
    "\n",
    "s1 = 100\n",
    "s2 = s1 + window_size\n",
    "\n",
    "delta1 = int(sample_rate*s1)\n",
    "delta2 = int(sample_rate*s2)\n",
    "\n",
    "d = data[channel_nr][delta1:delta2]\n",
    "t = time[delta1:delta2]\n",
    "num_samples = len(d)"
   ]
  },
  {
   "cell_type": "code",
   "execution_count": 41,
   "metadata": {},
   "outputs": [],
   "source": [
    "plt.figure(figsize=(10, 4))\n",
    "plt.plot(t, d)\n",
    "plt.xlabel('Time (s)')\n",
    "plt.ylabel('EEG Amplitude')\n",
    "plt.title(f'EEG Data for {channels[channel_nr]} Channel')\n",
    "plt.grid(True)\n",
    "plt.tight_layout()\n",
    "plt.show()"
   ]
  },
  {
   "cell_type": "code",
   "execution_count": 10,
   "metadata": {},
   "outputs": [],
   "source": [
    "(freq, fft_freq) = fft(d, num_samples, sample_rate)"
   ]
  },
  {
   "cell_type": "code",
   "execution_count": 11,
   "metadata": {},
   "outputs": [],
   "source": [
    "f, dt, ssx = plot_stft(d, sample_rate, 50, 5)"
   ]
  },
  {
   "cell_type": "code",
   "execution_count": 12,
   "metadata": {},
   "outputs": [],
   "source": [
    "imfs = hht(t, d, plot=False)"
   ]
  },
  {
   "cell_type": "code",
   "execution_count": 13,
   "metadata": {},
   "outputs": [],
   "source": [
    "#cwtm = wt(t, d, sample_rate, w=3.0)"
   ]
  },
  {
   "cell_type": "markdown",
   "metadata": {},
   "source": [
    "### Plot raw IMFS"
   ]
  },
  {
   "cell_type": "code",
   "execution_count": 28,
   "metadata": {},
   "outputs": [],
   "source": [
    "filt_imfs = imfs[0:len(imfs)-1]\n",
    "\n",
    "# Set the figure size dynamically based on the number of IMFs\n",
    "plt.figure(figsize=(10, 2*len(filt_imfs)))\n",
    "\n",
    "for idx, imf in enumerate(filt_imfs):\n",
    "    ax = plt.subplot(len(filt_imfs), 1, idx+1)\n",
    "    plt.plot(t, imf)\n",
    "    \n",
    "    # If it's not the last subplot, remove the x-axis labels to prevent overlap\n",
    "    if idx < len(filt_imfs) - 1:\n",
    "        ax.set_xticklabels([])\n",
    "    else:\n",
    "        plt.xlabel('Time [s]')  # Only add x-axis label to the bottom subplot\n",
    "\n",
    "    plt.ylabel('mV')\n",
    "\n",
    "# Adjust the layout to prevent overlapping\n",
    "plt.tight_layout(pad=0.4, w_pad=0.5, h_pad=1.0)\n",
    "plt.subplots_adjust(bottom=0.06)\n",
    "plt.show()"
   ]
  },
  {
   "cell_type": "markdown",
   "metadata": {},
   "source": [
    "### Plot Fourier Transform of each IMF"
   ]
  },
  {
   "cell_type": "code",
   "execution_count": 27,
   "metadata": {},
   "outputs": [],
   "source": [
    "filt_imfs = imfs[0:len(imfs)-1]\n",
    "\n",
    "# Set the figure size dynamically based on the number of IMFs\n",
    "plt.figure(figsize=(10, 2*len(filt_imfs)))\n",
    "\n",
    "for idx, imf in enumerate(filt_imfs):\n",
    "    # env, inst_freq = ht(t, imf, sample_rate, plot=False)\n",
    "    freq, fft_res = fft(imf, num_samples, sample_rate, plot=False)\n",
    "    \n",
    "    ax = plt.subplot(len(filt_imfs), 1, idx+1)\n",
    "    plt.plot(freq, fft_res, label=f\"IMF {idx+1}\")\n",
    "    plt.xlim(0, 45)\n",
    "    plt.legend()\n",
    "    # If it's not the last subplot, remove the x-axis labels to prevent overlap\n",
    "    if idx < len(filt_imfs) - 1:\n",
    "        ax.set_xticklabels([])\n",
    "    else:\n",
    "        plt.xlabel('Frequency [Hz]')  # Only add x-axis label to the bottom subplot\n",
    "\n",
    "    plt.ylabel('Amplitude')\n",
    "\n",
    "# Adjust the layout to prevent overlapping\n",
    "plt.tight_layout(pad=0.4, w_pad=0.5, h_pad=1.0)\n",
    "plt.subplots_adjust(bottom=0.06)\n",
    "plt.show()"
   ]
  },
  {
   "cell_type": "markdown",
   "metadata": {},
   "source": [
    "### Plot Short-Time Fourier Transform of each IMF"
   ]
  },
  {
   "cell_type": "code",
   "execution_count": 16,
   "metadata": {},
   "outputs": [],
   "source": [
    "filt_imfs = imfs[0:len(imfs)-1]\n",
    "\n",
    "# Determine global min and max values for color scale normalization\n",
    "vmin = np.inf  # start with infinity\n",
    "vmax = -np.inf  # start with negative infinity\n",
    "\n",
    "for imf in filt_imfs:\n",
    "    f, _, Sxx = plot_stft(imf, sample_rate=sample_rate, nperseg=100, noverlap=10, plot=False)\n",
    "    vmin = min(vmin, np.abs(Sxx).min())  # update vmin\n",
    "    vmax = max(vmax, np.abs(Sxx).max())  # update vmax\n",
    "\n",
    "plt.figure(figsize=(16, 4*len(filt_imfs)))\n",
    "\n",
    "# Create subplots and apply the same vmin and vmax to each\n",
    "for idx, imf in enumerate(filt_imfs):\n",
    "    f, dt, Sxx = plot_stft(imf, sample_rate=sample_rate, nperseg=100, noverlap=10, plot=False)\n",
    "    plt.subplot(len(filt_imfs), 1, idx+1)\n",
    "    plt.pcolormesh(dt, f, np.abs(Sxx), shading='gouraud', vmin=vmin, vmax=vmax)  # Apply the same vmin and vmax\n",
    "    plt.ylabel('f [Hz]')\n",
    "    plt.ylim([0, 50])\n",
    "\n",
    "# Add common xlabel\n",
    "plt.xlabel('Time [sec]')\n",
    "\n",
    "# After creating all subplots, add a single colorbar to the figure\n",
    "plt.subplots_adjust(right=0.85)  # Adjust subplot to not overlap with colorbar\n",
    "cbar_ax = plt.gcf().add_axes([0.88, 0.15, 0.025, 0.7])  # Position for the colorbar\n",
    "plt.colorbar(aspect=10, cax=cbar_ax, label='Magnitude [dB]')\n",
    "\n",
    "plt.show()"
   ]
  },
  {
   "cell_type": "markdown",
   "metadata": {},
   "source": [
    "### Plot Wavelet transform"
   ]
  },
  {
   "cell_type": "code",
   "execution_count": 18,
   "metadata": {},
   "outputs": [],
   "source": [
    "filt_imfs = imfs[0:len(imfs)-1]\n",
    "\n",
    "plt.figure(figsize=(16, 4*len(filt_imfs)))\n",
    "# Create subplots and apply the same vmin and vmax to each\n",
    "for idx, imf in enumerate(filt_imfs):\n",
    "    cwtm = wt(t, imf, sample_rate, w=6.0)\n",
    "    ax = plt.subplot(len(filt_imfs), 1, idx+1)\n",
    "    freq = np.linspace(1, sample_rate/2, 100)\n",
    "    plt.pcolormesh(t, freq, np.abs(cwtm), cmap='viridis', shading='gouraud')\n",
    "    if idx < len(filt_imfs) - 1:\n",
    "        ax.set_xticklabels([])\n",
    "    else:\n",
    "        plt.xlabel('Time [s]')  # Only add x-axis label to the bottom subplot\n",
    "    plt.ylabel('Amplitude')\n",
    "    plt.ylim([0, 50])\n",
    "\n",
    "plt.show()"
   ]
  },
  {
   "cell_type": "markdown",
   "metadata": {},
   "source": [
    "### Plot Hilbert Transform"
   ]
  },
  {
   "cell_type": "code",
   "execution_count": 31,
   "metadata": {},
   "outputs": [],
   "source": [
    "filt_imfs = imfs[0:len(imfs)-1]\n",
    "\n",
    "envelopes = []\n",
    "frequencies = []\n",
    "for idx, imf in enumerate(filt_imfs):\n",
    "    amplitude_envelope, instantaneous_frequency = ht(t, imf, sample_rate, plot=False)\n",
    "    envelopes.append(amplitude_envelope)\n",
    "    frequencies.append(instantaneous_frequency)\n",
    "\n",
    "plt.figure(figsize=(16, 4*len(filt_imfs)))\n",
    "for idx, envelope in enumerate(envelopes):\n",
    "    ax = plt.subplot(len(filt_imfs), 1, idx+1)\n",
    "    plt.plot(t, filt_imfs[idx], label=f'IMF {idx}')\n",
    "    plt.plot(t, envelope)    \n",
    "    if idx < len(filt_imfs) - 1:\n",
    "        ax.set_xticklabels([])\n",
    "    else:\n",
    "        plt.xlabel('Time [s]')\n",
    "plt.tight_layout(pad=0.4, w_pad=0.5, h_pad=1.0)\n",
    "plt.subplots_adjust(bottom=0.06)\n",
    "plt.show()\n",
    "\n",
    "plt.figure(figsize=(16, 4*len(filt_imfs)))\n",
    "for idx, frequency in enumerate(frequencies):\n",
    "    ax = plt.subplot(len(filt_imfs), 1, idx+1)\n",
    "    plt.plot(t[1:], frequency, label=f'IMF {idx}')    \n",
    "    if idx < len(filt_imfs) - 1:\n",
    "        ax.set_xticklabels([])\n",
    "    else:\n",
    "        plt.xlabel('Time [s]')\n",
    "plt.tight_layout(pad=0.4, w_pad=0.5, h_pad=1.0)\n",
    "plt.subplots_adjust(bottom=0.06)\n",
    "plt.show()"
   ]
  },
  {
   "cell_type": "code",
   "execution_count": null,
   "metadata": {},
   "outputs": [],
   "source": []
  }
 ],
 "metadata": {
  "kernelspec": {
   "display_name": "Python 3",
   "language": "python",
   "name": "python3"
  },
  "language_info": {
   "codemirror_mode": {
    "name": "ipython",
    "version": 3
   },
   "file_extension": ".py",
   "mimetype": "text/x-python",
   "name": "python",
   "nbconvert_exporter": "python",
   "pygments_lexer": "ipython3",
   "version": "3.8.18"
  }
 },
 "nbformat": 4,
 "nbformat_minor": 2
}
