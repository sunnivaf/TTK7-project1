{
 "cells": [
  {
   "cell_type": "code",
   "execution_count": 1,
   "metadata": {},
   "outputs": [],
   "source": [
    "import mne\n",
    "mne.set_log_level('error')\n",
    "import matplotlib\n",
    "import matplotlib.pyplot as plt\n",
    "from functions import *\n",
    "matplotlib.use('TkAgg')"
   ]
  },
  {
   "cell_type": "markdown",
   "metadata": {},
   "source": [
    "### Loading the data"
   ]
  },
  {
   "cell_type": "code",
   "execution_count": 2,
   "metadata": {},
   "outputs": [],
   "source": [
    "# data_path = \"/Users\\sunnivlf\\Documents/Data Set Alcohol Detector/Subjects\"\n",
    "data_path = \"/Users/sunniva/Documents/Prosjektoppgave/Data Set Alcohol Detector/Subjects\"\n",
    "#data_path = \"../Data Set Alcohol Detector/Subjects\"\n",
    "p_id = \"/\" + \"sub-P019\" + \"/\" + \"ses-S002\" + \"/\" + \"sub-P019_ses-S002_task-Default_run-005\"\n",
    "raw = mne.io.read_raw_fif(data_path + \"/\" + p_id + \"_eeg.fif\", preload=True)"
   ]
  },
  {
   "cell_type": "markdown",
   "metadata": {},
   "source": [
    "Plotting the elctrode placement on the scalp"
   ]
  },
  {
   "cell_type": "code",
   "execution_count": 3,
   "metadata": {},
   "outputs": [],
   "source": [
    "raw.plot_sensors(show_names=True);"
   ]
  },
  {
   "cell_type": "markdown",
   "metadata": {},
   "source": [
    "### Filtering the data\n",
    "Highpass filtering is included to remove drifting of the signal, while lowpass filtering will remove power line noise\n"
   ]
  },
  {
   "cell_type": "code",
   "execution_count": 4,
   "metadata": {},
   "outputs": [
    {
     "data": {
      "text/plain": [
       "<MNEBrowseFigure size 800x800 with 4 Axes>"
      ]
     },
     "execution_count": 4,
     "metadata": {},
     "output_type": "execute_result"
    }
   ],
   "source": [
    "low_cut = 0.1 \n",
    "hi_cut  = 30\n",
    "raw_filt = raw.copy().filter(low_cut, hi_cut)\n",
    "raw_filt.compute_psd(fmax=125).plot(picks=\"data\", exclude=\"bads\");\n",
    "raw_filt.plot(highpass=0.1, lowpass=30, duration=200)"
   ]
  },
  {
   "cell_type": "markdown",
   "metadata": {},
   "source": [
    "Choose one channel to use for this experiment. Fp2 is one of the frontal electrodes. The data and time is extracted from the filtered raw data, as numpy arrays."
   ]
  },
  {
   "cell_type": "code",
   "execution_count": 5,
   "metadata": {},
   "outputs": [],
   "source": [
    "picks = mne.pick_channels(ch_names = ['Fp2'], include=['Fp2'])\n",
    "data, time = raw_filt[picks, :]  "
   ]
  },
  {
   "cell_type": "markdown",
   "metadata": {},
   "source": [
    "The signal is visulaized using matplotlib."
   ]
  },
  {
   "cell_type": "code",
   "execution_count": 6,
   "metadata": {},
   "outputs": [],
   "source": [
    "plt.figure(figsize=(10, 4))\n",
    "plt.plot(time, data[0])\n",
    "plt.xlabel('Time (s)')\n",
    "plt.ylabel('EEG Amplitude')\n",
    "plt.title('EEG Data for Fp2 Channel')\n",
    "plt.grid(True)\n",
    "plt.tight_layout()\n",
    "plt.show()"
   ]
  },
  {
   "cell_type": "code",
   "execution_count": 7,
   "metadata": {},
   "outputs": [],
   "source": [
    "sample_rate = raw.info['sfreq']\n",
    "window_size = 8\n",
    "\n",
    "s1 = 50\n",
    "s2 = s1 + window_size\n",
    "\n",
    "delta1 = int(sample_rate*s1)\n",
    "delta2 = int(sample_rate*s2)\n",
    "\n",
    "d = data[0][delta1:delta2]\n",
    "t = time[delta1:delta2]\n",
    "num_samples = len(d)"
   ]
  },
  {
   "cell_type": "code",
   "execution_count": 8,
   "metadata": {},
   "outputs": [],
   "source": [
    "plt.figure(figsize=(10, 4))\n",
    "plt.plot(t, d)\n",
    "plt.xlabel('Time (s)')\n",
    "plt.ylabel('EEG Amplitude')\n",
    "plt.title('EEG Data for Fp2 Channel')\n",
    "plt.grid(True)\n",
    "plt.tight_layout()\n",
    "plt.show()"
   ]
  },
  {
   "cell_type": "code",
   "execution_count": 9,
   "metadata": {},
   "outputs": [],
   "source": [
    "(freq, fft_freq) = fft(d, num_samples, sample_rate)"
   ]
  },
  {
   "cell_type": "code",
   "execution_count": 10,
   "metadata": {},
   "outputs": [],
   "source": [
    "f, dt, ssx = plot_stft(d, sample_rate, 50, 5)"
   ]
  },
  {
   "cell_type": "code",
   "execution_count": 26,
   "metadata": {},
   "outputs": [],
   "source": [
    "imfs = hht(t, d, plot=False)"
   ]
  },
  {
   "cell_type": "code",
   "execution_count": 27,
   "metadata": {},
   "outputs": [],
   "source": [
    "#cwtm = wt(t, d, sample_rate, w=3.0)"
   ]
  },
  {
   "cell_type": "code",
   "execution_count": 21,
   "metadata": {},
   "outputs": [],
   "source": [
    "filt_imfs = imfs[0:len(imfs)-1]\n",
    "\n",
    "# Set the figure size dynamically based on the number of IMFs\n",
    "plt.figure(figsize=(10, 2*len(filt_imfs)))\n",
    "\n",
    "for idx, imf in enumerate(filt_imfs):\n",
    "    env, inst_freq = ht(t, imf, sample_rate, plot=False)\n",
    "    freq, fft_res = fft(imf, num_samples, sample_rate, plot=False)\n",
    "    \n",
    "    ax = plt.subplot(len(filt_imfs), 1, idx+1)\n",
    "    plt.plot(freq, fft_res)\n",
    "    plt.xlim(0, 45)\n",
    "    \n",
    "    # If it's not the last subplot, remove the x-axis labels to prevent overlap\n",
    "    if idx < len(filt_imfs) - 1:\n",
    "        ax.set_xticklabels([])\n",
    "    else:\n",
    "        plt.xlabel('Frequency (Hz)')  # Only add x-axis label to the bottom subplot\n",
    "\n",
    "    plt.ylabel('Amplitude')\n",
    "\n",
    "# Adjust the layout to prevent overlapping\n",
    "plt.tight_layout(pad=0.4, w_pad=0.5, h_pad=1.0)\n",
    "plt.subplots_adjust(bottom=0.06)\n",
    "plt.show()\n"
   ]
  },
  {
   "cell_type": "code",
   "execution_count": null,
   "metadata": {},
   "outputs": [],
   "source": [
    "filt_imfs = imfs[0:len(imfs)-1]\n",
    "\n",
    "plt.figure(figsize=(10, 4*len(filt_imfs)))\n",
    "for idx, imf in enumerate(filt_imfs):\n",
    "    f, t, Sxx = plot_stft(imf, sample_rate=sample_rate, nperseg=100, noverlap=10, plot=False)\n",
    "    plt.subplot(len(imfs)-1, 1, idx+1)\n",
    "    plt.pcolormesh(t, f, np.abs(Sxx), shading='gouraud')\n",
    "    # plt.colorbar(label='Magnitude [dB]')\n",
    "    # plt.title('STFT Magnitude')\n",
    "    plt.ylabel('f [Hz]')\n",
    "    # plt.xlabel('Time [sec]')\n",
    "    plt.ylim([0, 50])\n",
    "plt.colorbar(label='Magnitude [dB]')\n",
    "plt.show()"
   ]
  },
  {
   "cell_type": "code",
   "execution_count": 14,
   "metadata": {},
   "outputs": [],
   "source": [
    "filt_imfs = imfs[0:len(imfs)-1]\n",
    "\n",
    "# Determine global min and max values for color scale normalization\n",
    "vmin = np.inf  # start with infinity\n",
    "vmax = -np.inf  # start with negative infinity\n",
    "\n",
    "for imf in filt_imfs:\n",
    "    f, t, Sxx = plot_stft(imf, sample_rate=sample_rate, nperseg=100, noverlap=10, plot=False)\n",
    "    vmin = min(vmin, np.abs(Sxx).min())  # update vmin\n",
    "    vmax = max(vmax, np.abs(Sxx).max())  # update vmax\n",
    "\n",
    "plt.figure(figsize=(10, 4*len(filt_imfs)))\n",
    "\n",
    "# Create subplots and apply the same vmin and vmax to each\n",
    "for idx, imf in enumerate(filt_imfs):\n",
    "    f, t, Sxx = plot_stft(imf, sample_rate=sample_rate, nperseg=100, noverlap=10, plot=False)\n",
    "    plt.subplot(len(filt_imfs), 1, idx+1)\n",
    "    plt.pcolormesh(t, f, np.abs(Sxx), shading='gouraud', vmin=vmin, vmax=vmax)  # Apply the same vmin and vmax\n",
    "    plt.ylabel('f [Hz]')\n",
    "    plt.ylim([0, 50])\n",
    "\n",
    "# After creating all subplots, add a single colorbar to the figure\n",
    "plt.subplots_adjust(right=0.8)  # Adjust subplot to not overlap with colorbar\n",
    "cbar_ax = plt.gcf().add_axes([0.85, 0.15, 0.05, 0.7])  # Position for the colorbar\n",
    "plt.colorbar(cax=cbar_ax, label='Magnitude [dB]')\n",
    "\n",
    "# Add common xlabel\n",
    "plt.xlabel('Time [sec]')\n",
    "\n",
    "plt.show()"
   ]
  }
 ],
 "metadata": {
  "kernelspec": {
   "display_name": "Python 3",
   "language": "python",
   "name": "python3"
  },
  "language_info": {
   "codemirror_mode": {
    "name": "ipython",
    "version": 3
   },
   "file_extension": ".py",
   "mimetype": "text/x-python",
   "name": "python",
   "nbconvert_exporter": "python",
   "pygments_lexer": "ipython3",
   "version": "3.8.18"
  }
 },
 "nbformat": 4,
 "nbformat_minor": 2
}
